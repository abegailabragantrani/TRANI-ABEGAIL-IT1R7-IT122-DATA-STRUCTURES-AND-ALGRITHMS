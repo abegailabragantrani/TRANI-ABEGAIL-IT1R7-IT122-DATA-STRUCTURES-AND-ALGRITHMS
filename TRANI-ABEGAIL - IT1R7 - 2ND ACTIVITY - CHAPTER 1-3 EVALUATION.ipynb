{
 "cells": [
  {
   "cell_type": "code",
   "execution_count": 2,
   "id": "local-northwest",
   "metadata": {},
   "outputs": [
    {
     "name": "stdout",
     "output_type": "stream",
     "text": [
      "Discuss your learnings on Chapter 1  time-frame 8:00 - 30:35. Minimum of 200 characters\n",
      "Chapter 1 learnings are the following\n",
      "\n",
      "My learnings about chapter 1 is that data structures and algorithm are more likely into solving problems that will give you an insight into how efficient it is to use each one of them. And also for me, Algorithm can apply in our everyday life because it is more on stepsm steps that will teach you on how to have better outcome.\n"
     ]
    }
   ],
   "source": [
    "print(\"Discuss your learnings on Chapter 1  time-frame 8:00 - 30:35. Minimum of 200 characters\")\n",
    "print(\"Chapter 1 learnings are the following\")\n",
    "print(\"\\nMy learnings about chapter 1 is that data structures and algorithm are more likely into solving problems that will give you an insight into how efficient it is to use each one of them. And also for me, Algorithm can apply in our everyday life because it is more on stepsm steps that will teach you on how to have better outcome.\")"
   ]
  },
  {
   "cell_type": "code",
   "execution_count": 3,
   "id": "narrow-detroit",
   "metadata": {},
   "outputs": [
    {
     "name": "stdout",
     "output_type": "stream",
     "text": [
      "Discuss your learnings on Chapter 1  time-frame 35:00 - end. Minimum of 200 characters\n",
      "Chapter 1 learnings are the following\n",
      "In this chapter, I learn that data structures and algorithm play a major role in implementing software and in hiring process as well. Both are one of the most essential topic for programmers that's why it works best for them if data structures and algorithm are explained and implemented in the language they know better. Through this it makes it better to understand.\n"
     ]
    }
   ],
   "source": [
    "print(\"Discuss your learnings on Chapter 1  time-frame 35:00 - end. Minimum of 200 characters\")\n",
    "print(\"Chapter 1 learnings are the following\")\n",
    "print(\"\\nIn this chapter, I learn that data structures and algorithm play a major role in implementing software and in hiring process as well. Both are one of the most essential topic for programmers that's why it works best for them if data structures and algorithm are explained and implemented in the language they know better. Through this it makes it better to understand.\")"
   ]
  },
  {
   "cell_type": "code",
   "execution_count": 4,
   "id": "median-tribune",
   "metadata": {},
   "outputs": [
    {
     "name": "stdout",
     "output_type": "stream",
     "text": [
      "Discuss your learnings on Chapter 2  time-frame 5:00 - 9:00. Minimum of 200 characters\n",
      "Chapter 2 learnings are the following\n",
      "\n",
      "In this chapter, I learn so many ways that can make our life or our problems easier when it comes to math or averything. This chapter is all about search, update, delete, insert and update. It is already discussed by our programming teacher but thankfully through the video given by our IT122 teacher in which we were required to watch the video, It was a great help because i understand it very well.\n"
     ]
    }
   ],
   "source": [
    "print(\"Discuss your learnings on Chapter 2  time-frame 5:00 - 9:00. Minimum of 200 characters\")\n",
    "print(\"Chapter 2 learnings are the following\")\n",
    "print(\"\\nIn this chapter, I learn so many ways that can make our life or our problems easier when it comes to math or averything. This chapter is all about search, update, delete, insert and update. It is already discussed by our programming teacher but thankfully through the video given by our IT122 teacher in which we were required to watch the video, It was a great help because i understand it very well.\")"
   ]
  },
  {
   "cell_type": "code",
   "execution_count": 8,
   "id": "bored-academy",
   "metadata": {},
   "outputs": [
    {
     "name": "stdout",
     "output_type": "stream",
     "text": [
      "Discuss your learnings on Chapter 3  time-frame 3:00 - 18:00. Minimum of 200 characters\n",
      "Chapter 3 learnings are the following\n",
      "\n",
      "In this chapter, I learn that data structures and algorithm play a major role in implementing software and in hiring process as well. Both are one of the most essential topic for programmers that's why it works best for them if data structures and algorithm are explained and implemented in the language they know better. Through this it makes it better to understand.\n"
     ]
    }
   ],
   "source": [
    "print(\"Discuss your learnings on Chapter 3  time-frame 3:00 - 18:00. Minimum of 200 characters\")\n",
    "print(\"Chapter 3 learnings are the following\")\n",
    "print(\"\\nIn this chapter, I learn that data structures and algorithm play a major role in implementing software and in hiring process as well. Both are one of the most essential topic for programmers that's why it works best for them if data structures and algorithm are explained and implemented in the language they know better. Through this it makes it better to understand.\")"
   ]
  },
  {
   "cell_type": "code",
   "execution_count": 9,
   "id": "developmental-glory",
   "metadata": {},
   "outputs": [
    {
     "name": "stdout",
     "output_type": "stream",
     "text": [
      "100\n",
      "100\n",
      "8100\n",
      "4040\n",
      "4040\n"
     ]
    }
   ],
   "source": [
    "from array import*\n",
    "array_name = array(\"H\",[100,40,4040,4040,4040])\n",
    "array_name.insert(2,8100)\n",
    "array_name.remove(4040)\n",
    "array_name[1] = 100\n",
    "for x in array_name:\n",
    "    print (x)"
   ]
  },
  {
   "cell_type": "code",
   "execution_count": null,
   "id": "specialized-place",
   "metadata": {},
   "outputs": [],
   "source": []
  }
 ],
 "metadata": {
  "kernelspec": {
   "display_name": "Python 3",
   "language": "python",
   "name": "python3"
  },
  "language_info": {
   "codemirror_mode": {
    "name": "ipython",
    "version": 3
   },
   "file_extension": ".py",
   "mimetype": "text/x-python",
   "name": "python",
   "nbconvert_exporter": "python",
   "pygments_lexer": "ipython3",
   "version": "3.9.2"
  }
 },
 "nbformat": 4,
 "nbformat_minor": 5
}
